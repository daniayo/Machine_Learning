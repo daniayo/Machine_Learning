{
  "nbformat": 4,
  "nbformat_minor": 0,
  "metadata": {
    "colab": {
      "provenance": []
    },
    "kernelspec": {
      "name": "python3",
      "display_name": "Python 3"
    },
    "language_info": {
      "name": "python"
    }
  },
  "cells": [
    {
      "cell_type": "markdown",
      "source": [
        "# Hands-On Assignment 2\n",
        "\n",
        "2-1. Support vector machines with Iris dataset\n",
        "\n",
        "## After finishing writing the code for each problem, submit your ipynb file (i.e., this file) to Cybercampus by **10/24 Thursday 23:59**"
      ],
      "metadata": {
        "id": "QCbiHYv3Uq7I"
      }
    },
    {
      "cell_type": "markdown",
      "source": [
        "### Submitters are as follows.\n",
        " *Note that hands-on assignments can be done collaboratively (**up to 2 students**)*\n",
        "\n",
        "    Name: Dayeon Jang\n",
        "    Student ID: 2176319\n",
        "\n",
        "    Name:\n",
        "    Student ID:"
      ],
      "metadata": {
        "id": "IRkbqoriU22k"
      }
    },
    {
      "cell_type": "markdown",
      "source": [
        "\n",
        "\n",
        "---\n",
        "\n",
        "\n",
        "## 2-1. Support vector machines with Iris dataset\n",
        "\n",
        "\n",
        "---\n",
        "\n"
      ],
      "metadata": {
        "id": "DouDIPWNU67k"
      }
    },
    {
      "cell_type": "markdown",
      "source": [
        "Download the dataset\n",
        "\n",
        "\n",
        "*   data source: scikit-learn library\n",
        "\n"
      ],
      "metadata": {
        "id": "fuMOGBXgVExZ"
      }
    },
    {
      "cell_type": "code",
      "execution_count": null,
      "metadata": {
        "id": "sz3ul1oQS_hz"
      },
      "outputs": [],
      "source": [
        "from sklearn.datasets import load_iris\n",
        "\n",
        "iris_dataset = load_iris()"
      ]
    },
    {
      "cell_type": "markdown",
      "source": [
        "## Goal: Train Support vector machines to predict y (species of flower) based on provided features (SepalLength, SepalWidth, PetalLength, PetalWidth)\n",
        "❗❗READ CAREFULLY ⬇\n",
        "\n",
        "*   Use Scikit-learn library directly\n",
        "*   TO-DO:\n",
        "  1. Split the dataset into training and testing sets (training:testing=75:25)\n",
        "  2. Use \"StandardScaler\" function (provided in HA1_part1) to map all points to have mean=0 and std=1\n",
        "  3. First, train and test SVM using linear kernel\n",
        "    *   Report the accuracy\n",
        "    *   After that, by using 5-fold cross validation, again report accuracies from each fold and the mean accuracy after taking the mean on five accuracies.\n",
        "  4. Second, train and test SVM using RBF kernel\n",
        "    *   use C=1, gamma=0.01\n",
        "    *   Report the accuracy\n",
        "    *   After that, by using 5-fold cross validation, again report accuracies from each fold and the mean accuracy after taking the mean on five accuracies.\n",
        "  5. Hyperparemter tuning by using Grid Search (i.e., from sklearn.model_selection import GridSearchCV)\n",
        "    *   Parameter search space must include three kernels (['rbf', 'poly', 'sigmoid'], C ([0.1,1, 10, 100]) and gamma ([1,0.1,0.01,0.001]))\n",
        "    *   Report best parameters and accuracy based on them\n",
        "  6. Extend your discussion on why chosen kernel works more effectively than others and whether hyperparmeter tuning helps perfomrance improvement."
      ],
      "metadata": {
        "id": "YejKxrzpVZUO"
      }
    },
    {
      "cell_type": "markdown",
      "source": [
        "# **2_1 Support vector machines with Iris dataset**\n",
        "\n",
        "Linear Kernel Accuracy: 0.97\n",
        "\n",
        "Fold 1: 0.97\n",
        "Fold 2: 1.00\n",
        "Fold 3: 0.93\n",
        "Fold 4: 0.93\n",
        "Fold 5: 1.00  \n",
        "5-fold Linear Kernel Mean accuracy: 0.97\n",
        "\n",
        "RBF Kernel Accuracy: 0.97\n",
        "\n",
        "Fold 1: 0.80\n",
        "Fold 2: 0.93\n",
        "Fold 3: 0.90\n",
        "Fold 4: 0.90\n",
        "Fold 5: 0.90  \n",
        "5-fold RBF Kernel Mean accuracy: 0.89\n",
        "\n",
        "Grid Search Best Parameters: {'C': 100, 'gamma': 0.1, 'kernel': 'rbf'}\n",
        "Hyperparameter Accuracy: 1.00\n",
        "\n",
        "\n",
        "I think the reason why this happened is because rbf kernel is good at non-lenar dataset. Large C means it tries to minimize the error. 0.1 gamma is the perfect size, because 1 gamma could make the overfitting circumstance. With the hyperparameter tuning, the accuracy became 1.00. It means that it helped performance improvement."
      ],
      "metadata": {
        "id": "KZkFi2x7t4V4"
      }
    },
    {
      "cell_type": "code",
      "source": [
        "from sklearn.datasets import load_iris\n",
        "from sklearn.preprocessing import StandardScaler\n",
        "from sklearn.model_selection import train_test_split, cross_val_score, GridSearchCV\n",
        "from sklearn.svm import SVC\n",
        "from sklearn.metrics import accuracy_score\n",
        "import numpy as np\n",
        "\n",
        "# Load the Iris dataset\n",
        "iris_dataset = load_iris()\n",
        "x = iris_dataset.data\n",
        "y = iris_dataset.target\n",
        "\n",
        "# Split the dataset into training and testing sets (75:25 split)\n",
        "x_train, x_test, y_train, y_test = train_test_split(x, y, test_size=0.25, random_state=42)\n",
        "\n",
        "# First, train and test SVM using linear kernel\n",
        "def scaler_samples(train_x, test_x):\n",
        "    scaler = StandardScaler()\n",
        "    train_x = scaler.fit_transform(train_x)\n",
        "    test_x = scaler.transform(test_x)\n",
        "    return train_x, test_x\n",
        "\n",
        "x_train_scaled, x_test_scaled = scaler_samples(x_train, x_test)\n",
        "\n",
        "svm_linear = SVC(kernel='linear')\n",
        "svm_linear.fit(x_train_scaled, y_train)\n",
        "y_pred_linear = svm_linear.predict(x_test_scaled)\n",
        "accuracy_linear = accuracy_score(y_test, y_pred_linear)\n",
        "print(f\"Linear Kernel Accuracy: {accuracy_linear:.2f}\\n\")\n",
        "\n",
        "# 5-fold cross-validation\n",
        "x_scaled = StandardScaler().fit_transform(x)\n",
        "linear_accuracies = cross_val_score(svm_linear, x_scaled, y, cv=5)\n",
        "\n",
        "for i, accuracy in enumerate(linear_accuracies, 1):\n",
        "    print(f\"Fold {i}: {accuracy:.2f}\")\n",
        "\n",
        "mean_accuracy = np.mean(linear_accuracies)\n",
        "print(f\"5-fold Linear Kernel Mean accuracy: {mean_accuracy:.2f}\")\n",
        "\n",
        "\n",
        "# Second, train and test SVM using RBF kernel\n",
        "svm_rbf = SVC(kernel='rbf', C=1, gamma=0.01)\n",
        "svm_rbf.fit(x_train_scaled, y_train)\n",
        "y_pred_rbf = svm_rbf.predict(x_test_scaled)\n",
        "accuracy_rbf = accuracy_score(y_test, y_pred_rbf)\n",
        "print(f\"\\nRBF Kernel Accuracy: {accuracy_rbf:.2f}\\n\")\n",
        "\n",
        "# 5-fold cross validation\n",
        "rbf_accuracies = cross_val_score(svm_rbf, x_scaled, y, cv=5)\n",
        "\n",
        "for i, accuracy in enumerate(rbf_accuracies, 1):\n",
        "    print(f\"Fold {i}: {accuracy:.2f}\")\n",
        "\n",
        "mean_accuracy = np.mean(rbf_accuracies)\n",
        "print(f\"5-fold RBF Kernel Mean accuracy: {mean_accuracy:.2f}\\n\")\n",
        "\n",
        "\n",
        "# Hyperparemter tuning by using Grid Search\n",
        "param_grid = {\n",
        "    'kernel': ['rbf', 'poly', 'sigmoid'],\n",
        "    'C': [0.1, 1, 10, 100],\n",
        "    'gamma': [1, 0.1, 0.01, 0.001]\n",
        "}\n",
        "\n",
        "grid = GridSearchCV(SVC(), param_grid)\n",
        "grid.fit(x_train_scaled, y_train)\n",
        "print(f\"Grid Search Best Parameters: {grid.best_params_}\")\n",
        "\n",
        "y_pred_best = grid.best_estimator_.predict(x_test_scaled)\n",
        "best_accuracy = accuracy_score(y_test, y_pred_best)\n",
        "print(f\"Hyperparameter Accuracy: {best_accuracy:.2f}\")"
      ],
      "metadata": {
        "id": "dp1fKSFht6t9"
      },
      "execution_count": null,
      "outputs": []
    }
  ]
}